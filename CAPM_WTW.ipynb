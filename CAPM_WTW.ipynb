{
 "cells": [
  {
   "cell_type": "markdown",
   "metadata": {},
   "source": [
    "# Expected Rate of Return Analysis of *Weight Watchers International, Inc.* (NASDAQ:WTW)"
   ]
  },
  {
   "cell_type": "markdown",
   "metadata": {},
   "source": [
    "## By: Dillon Graveline"
   ]
  },
  {
   "cell_type": "markdown",
   "metadata": {},
   "source": [
    "*Note: I am using Python 3.7.3 for my calculations.*"
   ]
  },
  {
   "cell_type": "markdown",
   "metadata": {},
   "source": [
    "## The CAPM Formula for Expected Return:"
   ]
  },
  {
   "cell_type": "markdown",
   "metadata": {},
   "source": [
    "$$ r_j = r_{RF}+\\beta_j(r_M - r_{RF})$$"
   ]
  },
  {
   "cell_type": "markdown",
   "metadata": {},
   "source": [
    "*where*"
   ]
  },
  {
   "cell_type": "markdown",
   "metadata": {},
   "source": [
    "$r_j$ = Expected Return of Stock j"
   ]
  },
  {
   "cell_type": "markdown",
   "metadata": {},
   "source": [
    "$r_{RF}$ = The Risk-Free Rate"
   ]
  },
  {
   "cell_type": "markdown",
   "metadata": {},
   "source": [
    "$\\beta_j$ = The Beta of Stock j"
   ]
  },
  {
   "cell_type": "markdown",
   "metadata": {},
   "source": [
    "$r_M$ = The Return on the Market"
   ]
  },
  {
   "cell_type": "markdown",
   "metadata": {},
   "source": [
    "## An Analysis of *Weight Watchers International, Inc.*"
   ]
  },
  {
   "cell_type": "markdown",
   "metadata": {},
   "source": [
    "*Weight Watchers International, Inc.* trades on the NASDAQ and is not a part of the Standard & Poor's 500 Index (*S&P500*). According to their annual report, \"[They] are a global wellness company and the world’s leading commercial weight management program. [They] are focused on inspiring people to adopt healthy habits for real life. With over five decades of weight management experience, expertise and know-how, [they] have established Weight Watchers as one of the most recognized and trusted brand names among weight-conscious consumers.\" (Source: WTW's [10-K filing with the SEC](https://www.sec.gov/Archives/edgar/data/105319/000156459019004487/wtw-10k_20181229.htm))."
   ]
  },
  {
   "cell_type": "markdown",
   "metadata": {},
   "source": [
    "In order to calculate the expected rate of return of WTW, I need to gather the variables that comprise the CAPM formula stated above (assuming that stock j is WTW)."
   ]
  },
  {
   "cell_type": "markdown",
   "metadata": {},
   "source": [
    "All calculations were completed on April 16th, 2019."
   ]
  },
  {
   "cell_type": "markdown",
   "metadata": {},
   "source": [
    "### The Risk-Free Rate"
   ]
  },
  {
   "cell_type": "markdown",
   "metadata": {},
   "source": [
    "#### Obtaining the statistic"
   ]
  },
  {
   "cell_type": "markdown",
   "metadata": {},
   "source": [
    "I will be using U.S. Treasury securities to obtain the risk-free rate. This is because the U.S. government has never defaulted on its debt obligations. While it is not 100% risk free, it comes pretty close. I will be using the 10 year U.S. Treasury bond yield. The reason why I am using the 10 year yield in favour of other time frames is because it best matches my investment horizon for this stock. Also, it eliminates potential interest rate re-investment risk that would be present with shorter maturities. I am obtaining this statistic directly from the [U.S. Department of the Treasury](https://www.treasury.gov/resource-center/data-chart-center/interest-rates/pages/TextView.aspx?data=yield)'s webpage. The yield for a 10 year U.S. Treasury bond is **2.60%**."
   ]
  },
  {
   "cell_type": "markdown",
   "metadata": {},
   "source": [
    "#### Conclusion"
   ]
  },
  {
   "cell_type": "markdown",
   "metadata": {},
   "source": [
    "Since the data is coming directly from the [U.S. Department of the Treasury](https://www.treasury.gov/resource-center/data-chart-center/interest-rates/pages/TextView.aspx?data=yield), there is no need to double check it. I will store this value under the risk_free variable to be used in the CAPM calculation."
   ]
  },
  {
   "cell_type": "markdown",
   "metadata": {},
   "source": [
    "$r_{RF}:$"
   ]
  },
  {
   "cell_type": "code",
   "execution_count": 1,
   "metadata": {},
   "outputs": [],
   "source": [
    "risk_free =  2.60"
   ]
  },
  {
   "cell_type": "markdown",
   "metadata": {},
   "source": [
    "### The Return on the Market"
   ]
  },
  {
   "cell_type": "markdown",
   "metadata": {},
   "source": [
    "Instead of analyzing a portfolio that owns every single stock or security, I will use the *S&P500* index because it is a heavily diversified index that performs extremely similar to the market as a whole."
   ]
  },
  {
   "cell_type": "markdown",
   "metadata": {},
   "source": [
    "In order to caluclate the return on the market, I will find the average annual return of the *S&P500* over 20 years. I used a 20 year horizon because it covers several business cycles. Given the extremely long current bull market (10 years plus) anything less than 20 years would provide a skewed result for return on the market. For example, if I set the time frame to 10 years, I get a **19.28%** return for the market which is an unreasonable result compared to long term market returns."
   ]
  },
  {
   "cell_type": "markdown",
   "metadata": {},
   "source": [
    "<div style=”page-break-after: always;”></div>"
   ]
  },
  {
   "cell_type": "markdown",
   "metadata": {},
   "source": [
    "#### First I will grab historical data from the *Yahoo Finance API* with a time interval of 20 years."
   ]
  },
  {
   "cell_type": "code",
   "execution_count": 2,
   "metadata": {},
   "outputs": [
    {
     "name": "stdout",
     "output_type": "stream",
     "text": [
      "Here are the first 5 rows of the DataFrame containing daily closing prices of the S&P500 for 20 years.\n",
      "\n",
      "                  Close\n",
      "Date                   \n",
      "1999-04-16  1319.000000\n",
      "1999-04-19  1289.479980\n",
      "1999-04-20  1306.170044\n",
      "1999-04-21  1336.119995\n",
      "1999-04-22  1358.819946\n"
     ]
    }
   ],
   "source": [
    "# Import modules\n",
    "import pandas as pd\n",
    "from pandas_datareader import data\n",
    "import statsmodels.api as sm\n",
    "from datetime import datetime\n",
    "\n",
    "# Define variables\n",
    "start_date = datetime(1999, 4, 16) # April 16, 1999\n",
    "end_date = datetime(2019, 4, 16) # April 16, 2019\n",
    "\n",
    "# Grab historical data from the Yahoo Finance API\n",
    "ignore_me = data.DataReader('NVDA', 'yahoo', start_date, end_date) # Nonsense DataFrame to start the socket\n",
    "sp_500 = data.DataReader('^GSPC', 'yahoo', start_date, end_date) # ^GSPC is the ticker for the S&P500 Index\n",
    "sp_500 = sp_500.drop(['High','Low','Open','Volume','Adj Close'], axis =1)\n",
    "print('Here are the first 5 rows of the DataFrame containing daily closing prices of the S&P500 for 20 years.')\n",
    "print('')\n",
    "print(sp_500.head())"
   ]
  },
  {
   "cell_type": "markdown",
   "metadata": {},
   "source": [
    "#### Next, I will convert these prices to daily percentage changes."
   ]
  },
  {
   "cell_type": "code",
   "execution_count": 3,
   "metadata": {},
   "outputs": [
    {
     "name": "stdout",
     "output_type": "stream",
     "text": [
      "               Close\n",
      "Date                \n",
      "1999-04-19 -0.022381\n",
      "1999-04-20  0.012943\n",
      "1999-04-21  0.022930\n",
      "1999-04-22  0.016989\n",
      "1999-04-23 -0.001450\n"
     ]
    }
   ],
   "source": [
    "# Convert to percentage change\n",
    "daily_returns = sp_500.pct_change(1)\n",
    "clean_daily_returns = daily_returns.dropna(axis=0)\n",
    "print(clean_daily_returns.head())"
   ]
  },
  {
   "cell_type": "markdown",
   "metadata": {},
   "source": [
    "#### Now, I will take the arithmetic average of all daily returns and multiply by 365 days to obtain the average annual return of the market over 20 years."
   ]
  },
  {
   "cell_type": "code",
   "execution_count": 4,
   "metadata": {
    "scrolled": true
   },
   "outputs": [
    {
     "name": "stdout",
     "output_type": "stream",
     "text": [
      "Average Daily Returns: 0.023%\n",
      "Average Annual Returns: 8.334%\n"
     ]
    }
   ],
   "source": [
    "daily_mean = (clean_daily_returns['Close'].mean())*100\n",
    "daily_mean_display = str(round((daily_mean), 3))\n",
    "print('Average Daily Returns: '+daily_mean_display+\"%\")\n",
    "annual_returns = daily_mean*365\n",
    "annual_returns_display = str(round((annual_returns),3))\n",
    "print('Average Annual Returns: '+annual_returns_display+'%')"
   ]
  },
  {
   "cell_type": "markdown",
   "metadata": {},
   "source": [
    "#### Conclusion"
   ]
  },
  {
   "cell_type": "markdown",
   "metadata": {},
   "source": [
    "According to the analysis, the average annual return of the *S&P500* index is **8.352%** over a period of 20 years. Therefore, I will set $r_M$ to the annual_returns variable that I calculated above."
   ]
  },
  {
   "cell_type": "markdown",
   "metadata": {},
   "source": [
    "$r_M:$"
   ]
  },
  {
   "cell_type": "code",
   "execution_count": 5,
   "metadata": {},
   "outputs": [],
   "source": [
    "mkt_return = annual_returns"
   ]
  },
  {
   "cell_type": "markdown",
   "metadata": {},
   "source": [
    "### The Beta of WTW"
   ]
  },
  {
   "cell_type": "markdown",
   "metadata": {},
   "source": [
    "A quick check on [Yahoo Finance](https://finance.yahoo.com/quote/WTW/) gives a $\\beta$ (3Y Monthly) of 0.90. However, [Reuters](https://www.reuters.com/finance/stocks/overview/WTW.OQ) displays a $\\beta$ of 2.39. Also, [Market Watch](https://www.marketwatch.com/investing/stock/wtw) shows a $\\beta$ of 1.49. Which one is correct and how can there be such a huge discrepancy between the three?"
   ]
  },
  {
   "cell_type": "markdown",
   "metadata": {},
   "source": [
    "In order to answer this question, I will use regression analysis, as shown in the textbook handout distributed in class, to calculate the $\\beta$."
   ]
  },
  {
   "cell_type": "markdown",
   "metadata": {},
   "source": [
    "I will be using this formula to calculate $\\beta:$"
   ]
  },
  {
   "cell_type": "markdown",
   "metadata": {},
   "source": [
    "$$\\beta = \\dfrac{\\textrm{Covariance}(r_j,r_M)}{\\textrm{Variance}(r_M)}$$"
   ]
  },
  {
   "cell_type": "markdown",
   "metadata": {},
   "source": [
    "#### First, I will grab historical data from the Yahoo Finance API with a time interval of 3 years."
   ]
  },
  {
   "cell_type": "code",
   "execution_count": 6,
   "metadata": {},
   "outputs": [],
   "source": [
    "# Define variables\n",
    "start_date = datetime(2016, 4, 16) #April 16, 2016\n",
    "end_date = datetime(2019, 4, 16) #April 16, 2019\n",
    "\n",
    "# Grab historical data from the Yahoo Finance API\n",
    "wtw = data.DataReader('wtw', 'yahoo', start_date, end_date)\n",
    "sp_500 = data.DataReader('^GSPC', 'yahoo', start_date, end_date)"
   ]
  },
  {
   "cell_type": "markdown",
   "metadata": {},
   "source": [
    "#### Here is the first 5 entries of our DataFrame comparing prices of *WTW* and the *S&P500*:"
   ]
  },
  {
   "cell_type": "code",
   "execution_count": 7,
   "metadata": {
    "scrolled": true
   },
   "outputs": [
    {
     "name": "stdout",
     "output_type": "stream",
     "text": [
      "              WTW        ^GSPC\n",
      "Date                          \n",
      "2016-04-18  15.04  2094.340088\n",
      "2016-04-19  14.78  2100.800049\n",
      "2016-04-20  14.61  2102.399902\n",
      "2016-04-21  14.61  2091.479980\n",
      "2016-04-22  14.47  2091.580078\n"
     ]
    }
   ],
   "source": [
    "# Join the closing prices of the two DataFrames \n",
    "daily_prices = pd.concat([wtw['Close'], sp_500['Close']], axis=1)\n",
    "daily_prices.columns = ['WTW', '^GSPC']\n",
    "\n",
    "# Check the head of the DataFrame\n",
    "print(daily_prices.head())"
   ]
  },
  {
   "cell_type": "markdown",
   "metadata": {},
   "source": [
    "#### Here is the first 5 entries of our DataFrame comparing daily returns of *WTW* and the *S&P500*:"
   ]
  },
  {
   "cell_type": "code",
   "execution_count": 8,
   "metadata": {},
   "outputs": [
    {
     "name": "stdout",
     "output_type": "stream",
     "text": [
      "                 WTW     ^GSPC\n",
      "Date                          \n",
      "2016-04-19 -0.017287  0.003084\n",
      "2016-04-20 -0.011502  0.000762\n",
      "2016-04-21  0.000000 -0.005194\n",
      "2016-04-22 -0.009582  0.000048\n",
      "2016-04-25 -0.007602 -0.001812\n"
     ]
    }
   ],
   "source": [
    "# Calculate daily returns\n",
    "daily_returns = daily_prices.pct_change(1)\n",
    "clean_daily_returns = daily_returns.dropna(axis=0)  # Drop first missing row\n",
    "print(clean_daily_returns.head())"
   ]
  },
  {
   "cell_type": "markdown",
   "metadata": {},
   "source": [
    "#### Now that we have a DataFrame with all of the monthly returns, we can analyze $\\beta$ using an Ordinary Least Square (OLS) Regression (aka linear regression). "
   ]
  },
  {
   "cell_type": "code",
   "execution_count": 9,
   "metadata": {},
   "outputs": [
    {
     "data": {
      "image/png": "[encoded data removed]",
      "text/plain": [
       "<Figure size 1080x720 with 1 Axes>"
      ]
     },
     "metadata": {},
     "output_type": "display_data"
    }
   ],
   "source": [
    "# Plot data\n",
    "import seaborn as sns\n",
    "import matplotlib.pyplot as plt\n",
    "sns.set(style ='white')\n",
    "plt.subplots(figsize=(15,10))\n",
    "ax = sns.regplot(x='^GSPC', y='WTW', data=clean_daily_returns, color = '#240041', marker = \"+\", line_kws={'color':'#ff4057'}).set_title('Linear Regression Between WTW and S&P500')"
   ]
  },
  {
   "cell_type": "code",
   "execution_count": 10,
   "metadata": {},
   "outputs": [
    {
     "name": "stdout",
     "output_type": "stream",
     "text": [
      "                            OLS Regression Results                            \n",
      "==============================================================================\n",
      "Dep. Variable:                    WTW   R-squared:                       0.111\n",
      "Model:                            OLS   Adj. R-squared:                  0.110\n",
      "Method:                 Least Squares   F-statistic:                     94.16\n",
      "Date:                Wed, 17 Apr 2019   Prob (F-statistic):           4.68e-21\n",
      "Time:                        21:34:53   Log-Likelihood:                 1434.9\n",
      "No. Observations:                 755   AIC:                            -2866.\n",
      "Df Residuals:                     753   BIC:                            -2857.\n",
      "Df Model:                           1                                         \n",
      "Covariance Type:            nonrobust                                         \n",
      "==============================================================================\n",
      "                 coef    std err          t      P>|t|      [0.025      0.975]\n",
      "------------------------------------------------------------------------------\n",
      "const          0.0004      0.001      0.266      0.790      -0.002       0.003\n",
      "^GSPC          1.6307      0.168      9.704      0.000       1.301       1.961\n",
      "==============================================================================\n",
      "Omnibus:                      242.356   Durbin-Watson:                   2.079\n",
      "Prob(Omnibus):                  0.000   Jarque-Bera (JB):            17441.140\n",
      "Skew:                          -0.487   Prob(JB):                         0.00\n",
      "Kurtosis:                      26.526   Cond. No.                         127.\n",
      "==============================================================================\n",
      "\n",
      "Warnings:\n",
      "[1] Standard Errors assume that the covariance matrix of the errors is correctly specified.\n"
     ]
    },
    {
     "name": "stderr",
     "output_type": "stream",
     "text": [
      "/usr/local/lib/python3.7/site-packages/numpy/core/fromnumeric.py:2389: FutureWarning: Method .ptp is deprecated and will be removed in a future version. Use numpy.ptp instead.\n",
      "  return ptp(axis=axis, out=out, **kwargs)\n"
     ]
    }
   ],
   "source": [
    "# Define dependent and independent variables\n",
    "X = clean_daily_returns['^GSPC']\n",
    "y = clean_daily_returns['WTW']\n",
    "\n",
    "# Add a constant to the independent value\n",
    "X1 = sm.add_constant(X)\n",
    "\n",
    "# Make a regression model \n",
    "model = sm.OLS(y, X1)\n",
    "\n",
    "# Fit model and print results\n",
    "results = model.fit()\n",
    "print(results.summary())"
   ]
  },
  {
   "cell_type": "markdown",
   "metadata": {},
   "source": [
    "#### Conclusion"
   ]
  },
  {
   "cell_type": "markdown",
   "metadata": {},
   "source": [
    "According to the analysis, the $\\beta$ of WTW is **1.63** (under coef for ^GSPC). This is very similar to the $\\beta$ listed on Market Watch. This intuitively makes sense for a stock like WTW. When the economy is doing well and people are making money in the markets, they tend to also focus on making themselves better (losing weight). So we can expect WTW to perform well when the market is performing well. Other more defensive stocks like cigarette companies tend to do better when the market is doing poorly. Therefore, we will set $\\beta_{j}$ to **1.6309** (from the calculation) in our CAPM calculation:"
   ]
  },
  {
   "cell_type": "code",
   "execution_count": 11,
   "metadata": {},
   "outputs": [],
   "source": [
    "wtw_beta = 1.6309"
   ]
  },
  {
   "cell_type": "markdown",
   "metadata": {},
   "source": [
    "### The Final Calculation"
   ]
  },
  {
   "cell_type": "markdown",
   "metadata": {},
   "source": [
    "The final calculation combines all of the previous variables we have gathered so far into the CAPM equation in order to find out the expected return."
   ]
  },
  {
   "cell_type": "markdown",
   "metadata": {},
   "source": [
    "Just to recap, the CAPM formula is:"
   ]
  },
  {
   "cell_type": "markdown",
   "metadata": {},
   "source": [
    "$$ r_j = r_{RF}+\\beta_j(r_M - r_{RF})$$"
   ]
  },
  {
   "cell_type": "markdown",
   "metadata": {},
   "source": [
    "By plugging in our variables, we get:"
   ]
  },
  {
   "cell_type": "markdown",
   "metadata": {},
   "source": [
    "$$ r_j = 2.60 + 1.63 (8.35 - 2.60)$$"
   ]
  },
  {
   "cell_type": "markdown",
   "metadata": {},
   "source": [
    "$r_{j}:$"
   ]
  },
  {
   "cell_type": "code",
   "execution_count": 12,
   "metadata": {},
   "outputs": [
    {
     "name": "stdout",
     "output_type": "stream",
     "text": [
      "Expected Return of WTW: 11.95%\n"
     ]
    }
   ],
   "source": [
    "expected_return = risk_free + wtw_beta*(mkt_return - risk_free)\n",
    "expected_return_display = str(round(expected_return, 2))\n",
    "print(\"Expected Return of WTW: \"+expected_return_display+'%')"
   ]
  },
  {
   "cell_type": "markdown",
   "metadata": {},
   "source": [
    "Based on the calculations above for $r_{j}$, the expected rate of return for *Weight Watchers International, Inc.* is **11.98%**."
   ]
  },
  {
   "cell_type": "markdown",
   "metadata": {},
   "source": [
    "## Problems Encountered"
   ]
  },
  {
   "cell_type": "markdown",
   "metadata": {},
   "source": [
    "Since the instructions were fairly vague for this assignement, I had to fundamentally understand the CAPM model on a deep level. While I could have used pen and paper to do the calculations, it would result in a superficial understanding of the model. I combined my passion for statistics and scripting languages by using python to do the calculations. I decided to use Python 3.7.3 intead of Excel because there are many modules available for analyzing securities and also for the flexibility it provides. I encountered problems when I had to use several modules that I had not been familiar with before the assignment. These modules are: seaborn and statsmodels. Luckily, these modules provide in depth documentation that explains each function in detail. After reading through the documentation, I was able to understand how DataFrames worked and how to do an Ordinary Least Square (OLS) Regression."
   ]
  },
  {
   "cell_type": "markdown",
   "metadata": {},
   "source": [
    "## Sources"
   ]
  },
  {
   "cell_type": "markdown",
   "metadata": {},
   "source": [
    "WTW's 10-K filing with the SEC on December 29, 2018: https://www.sec.gov/Archives/edgar/data/105319/000156459019004487/wtw-10k_20181229.htm\n",
    "\n",
    "U.S. Department of the Treasury's daily treasury yield curve rates: https://www.treasury.gov/resource-center/data-chart-center/interest-rates/pages/TextView.aspx?data=yield\n",
    "\n",
    "WTW's Yahoo Finance quote: https://finance.yahoo.com/quote/WTW/\n",
    "\n",
    "WTW's Reuters quote: https://www.reuters.com/finance/stocks/overview/WTW.OQ\n",
    "\n",
    "WTW's Market Watch quote: https://www.marketwatch.com/investing/stock/wtw\n",
    "\n",
    "The Yahoo Finance API\n",
    "\n",
    "Python 3's Documentation: https://docs.python.org/3/\n",
    "\n",
    "Seaborn's Documentation: https://seaborn.pydata.org/\n",
    "\n",
    "Pandas' Documentation: https://pandas.pydata.org/pandas-docs/stable/?v=20190416205407\n",
    "\n",
    "StatsModels' Documentation: https://www.statsmodels.org/stable/index.html"
   ]
  },
  {
   "cell_type": "markdown",
   "metadata": {},
   "source": [
    "## Software Used"
   ]
  },
  {
   "cell_type": "markdown",
   "metadata": {},
   "source": [
    "Python 3.73 MacOSX\n",
    "\n",
    "Jupyter\n",
    "\n",
    "Seaborn\n",
    "\n",
    "Pandas\n",
    "\n",
    "Pandas_DataReader\n",
    "\n",
    "StatsModels\n",
    "\n",
    "matplotlib\n",
    "\n",
    "fix-yahoo-finance 0.1.25"
   ]
  }
 ],
 "metadata": {
  "kernelspec": {
   "display_name": "Python 3",
   "language": "python",
   "name": "python3"
  },
  "language_info": {
   "codemirror_mode": {
    "name": "ipython",
    "version": 3
   },
   "file_extension": ".py",
   "mimetype": "text/x-python",
   "name": "python",
   "nbconvert_exporter": "python",
   "pygments_lexer": "ipython3",
   "version": "3.7.3"
  }
 },
 "nbformat": 4,
 "nbformat_minor": 2
}
